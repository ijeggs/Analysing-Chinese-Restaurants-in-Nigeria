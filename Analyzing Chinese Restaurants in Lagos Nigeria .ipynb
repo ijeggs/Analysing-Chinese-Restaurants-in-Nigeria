{
 "cells": [
  {
   "cell_type": "markdown",
   "metadata": {
    "button": false,
    "new_sheet": false,
    "run_control": {
     "read_only": false
    }
   },
   "source": [
    "<img src =\"https://media.licdn.com/dms/image/C5603AQFC7PlKSb2Qvw/profile-displayphoto-shrink_200_200/0?e=1574899200&v=beta&t=aGhujp24TflnBHX-BeYR_2VViuyZCGZznMF8iQ1S9YU\"  width = 300>\n",
    "\n",
    "<h1 align=center><font size = 5>IBM DATA SCIENCE PROFESSIONAL CERTIFICATE CAPSTONE PROJECT</font></h1>"
   ]
  },
  {
   "cell_type": "markdown",
   "metadata": {
    "button": false,
    "new_sheet": false,
    "run_control": {
     "read_only": false
    }
   },
   "source": [
    "   "
   ]
  },
  {
   "cell_type": "markdown",
   "metadata": {
    "button": false,
    "new_sheet": false,
    "run_control": {
     "read_only": false
    }
   },
   "source": [
    "## Introduction\n",
    "\n",
    "In this capstone stone project, I will be Analysing Hotels in Lagos, Nigeria. In recent years, Business Relationship between Nigeria and China has been growwing with Chinese companies and expertries taking over majority of infrastructural works in Africa's biggest economy. This has led to the influx of Chinese in high proportions to Nigeria leading to demands in Chinese foods and restaurants. In this work I intend to use the foursquare location data to explore chinese restaurants in Lagos which is the commercial center of Nigeria so as to provide recommendation. This work will demostrate  in details how to make calls to the Foursquare API, construct a URL to send a request to the API to search for a specific type of venues and to explore a particular venue, geographical location, and to get trending venues around a location. I will also, show how to use the visualization library, Folium, to visualize the results."
   ]
  },
  {
   "cell_type": "markdown",
   "metadata": {
    "button": false,
    "new_sheet": false,
    "run_control": {
     "read_only": false
    }
   },
   "source": [
    "## Table of Contents\n",
    "\n",
    "1. <a href=\"#item1\">INTRODUCTION</a>\n",
    "2. <a href=\"#item2\">DATA AND DATA COLLECTION</a>  \n",
    "3. <a href=\"#item3\">METHODOLOGY</a>  \n",
    "4. <a href=\"#item4\">RESULTS</a>  \n",
    "5. <a href=\"#item5\">DISCUSSION</a> \n",
    "6. <a href=\"#item5\">CONCLUSION</a> \n"
   ]
  },
  {
   "cell_type": "markdown",
   "metadata": {
    "button": false,
    "new_sheet": false,
    "run_control": {
     "read_only": false
    }
   },
   "source": [
    "### FIRST WE IMPORT ALL REQUIRED LIBRARIES"
   ]
  },
  {
   "cell_type": "code",
   "execution_count": 1,
   "metadata": {
    "button": false,
    "jupyter": {
     "outputs_hidden": false
    },
    "new_sheet": false,
    "run_control": {
     "read_only": false
    }
   },
   "outputs": [
    {
     "name": "stdout",
     "output_type": "stream",
     "text": [
      "Solving environment: done\n",
      "\n",
      "## Package Plan ##\n",
      "\n",
      "  environment location: /opt/conda/envs/Python36\n",
      "\n",
      "  added / updated specs: \n",
      "    - geopy\n",
      "\n",
      "\n",
      "The following packages will be downloaded:\n",
      "\n",
      "    package                    |            build\n",
      "    ---------------------------|-----------------\n",
      "    openssl-1.1.1c             |       h516909a_0         2.1 MB  conda-forge\n",
      "    ca-certificates-2019.9.11  |       hecc5488_0         144 KB  conda-forge\n",
      "    geographiclib-1.50         |             py_0          34 KB  conda-forge\n",
      "    geopy-1.20.0               |             py_0          57 KB  conda-forge\n",
      "    certifi-2019.9.11          |           py36_0         147 KB  conda-forge\n",
      "    ------------------------------------------------------------\n",
      "                                           Total:         2.5 MB\n",
      "\n",
      "The following NEW packages will be INSTALLED:\n",
      "\n",
      "    geographiclib:   1.50-py_0         conda-forge\n",
      "    geopy:           1.20.0-py_0       conda-forge\n",
      "\n",
      "The following packages will be UPDATED:\n",
      "\n",
      "    ca-certificates: 2019.5.15-1                   --> 2019.9.11-hecc5488_0 conda-forge\n",
      "    certifi:         2019.6.16-py36_1              --> 2019.9.11-py36_0     conda-forge\n",
      "\n",
      "The following packages will be DOWNGRADED:\n",
      "\n",
      "    openssl:         1.1.1d-h7b6447c_1             --> 1.1.1c-h516909a_0    conda-forge\n",
      "\n",
      "\n",
      "Downloading and Extracting Packages\n",
      "openssl-1.1.1c       | 2.1 MB    | ##################################### | 100% \n",
      "ca-certificates-2019 | 144 KB    | ##################################### | 100% \n",
      "geographiclib-1.50   | 34 KB     | ##################################### | 100% \n",
      "geopy-1.20.0         | 57 KB     | ##################################### | 100% \n",
      "certifi-2019.9.11    | 147 KB    | ##################################### | 100% \n",
      "Preparing transaction: done\n",
      "Verifying transaction: done\n",
      "Executing transaction: done\n",
      "Solving environment: done\n",
      "\n",
      "## Package Plan ##\n",
      "\n",
      "  environment location: /opt/conda/envs/Python36\n",
      "\n",
      "  added / updated specs: \n",
      "    - folium=0.5.0\n",
      "\n",
      "\n",
      "The following packages will be downloaded:\n",
      "\n",
      "    package                    |            build\n",
      "    ---------------------------|-----------------\n",
      "    folium-0.5.0               |             py_0          45 KB  conda-forge\n",
      "    branca-0.3.1               |             py_0          25 KB  conda-forge\n",
      "    altair-3.2.0               |           py36_0         770 KB  conda-forge\n",
      "    vincent-0.4.4              |             py_1          28 KB  conda-forge\n",
      "    ------------------------------------------------------------\n",
      "                                           Total:         868 KB\n",
      "\n",
      "The following NEW packages will be INSTALLED:\n",
      "\n",
      "    altair:  3.2.0-py36_0 conda-forge\n",
      "    branca:  0.3.1-py_0   conda-forge\n",
      "    folium:  0.5.0-py_0   conda-forge\n",
      "    vincent: 0.4.4-py_1   conda-forge\n",
      "\n",
      "\n",
      "Downloading and Extracting Packages\n",
      "folium-0.5.0         | 45 KB     | ##################################### | 100% \n",
      "branca-0.3.1         | 25 KB     | ##################################### | 100% \n",
      "altair-3.2.0         | 770 KB    | ##################################### | 100% \n",
      "vincent-0.4.4        | 28 KB     | ##################################### | 100% \n",
      "Preparing transaction: done\n",
      "Verifying transaction: done\n",
      "Executing transaction: done\n",
      "Folium installed\n",
      "Libraries imported.\n"
     ]
    }
   ],
   "source": [
    "import requests # library to handle requests\n",
    "import pandas as pd # library for data analsysis\n",
    "import numpy as np # library to handle data in a vectorized manner\n",
    "import random # library for random number generation\n",
    "\n",
    "!conda install -c conda-forge geopy --yes \n",
    "from geopy.geocoders import Nominatim # module to convert an address into latitude and longitude values\n",
    "\n",
    "# libraries for displaying images\n",
    "from IPython.display import Image \n",
    "from IPython.core.display import HTML \n",
    "    \n",
    "# tranforming json file into a pandas dataframe library\n",
    "from pandas.io.json import json_normalize\n",
    "\n",
    "!conda install -c conda-forge folium=0.5.0 --yes\n",
    "import folium # plotting library\n",
    "\n",
    "print('Folium installed')\n",
    "print('Libraries imported.')"
   ]
  },
  {
   "cell_type": "markdown",
   "metadata": {
    "button": false,
    "new_sheet": false,
    "run_control": {
     "read_only": false
    }
   },
   "source": [
    "### Define Foursquare Credentials and Version"
   ]
  },
  {
   "cell_type": "markdown",
   "metadata": {
    "button": false,
    "new_sheet": false,
    "run_control": {
     "read_only": false
    }
   },
   "source": [
    "##### Foursquare Login Credentials can be obtained from www.foursquare.com"
   ]
  },
  {
   "cell_type": "code",
   "execution_count": 3,
   "metadata": {
    "button": false,
    "jupyter": {
     "outputs_hidden": false
    },
    "new_sheet": false,
    "run_control": {
     "read_only": false
    }
   },
   "outputs": [
    {
     "name": "stdout",
     "output_type": "stream",
     "text": [
      "Your credentails:\n",
      "CLIENT_ID: HUIXUMHELPDOY0XYRWPT3XMBZLIM54IC1TUCM4RUWKFIKMZL\n",
      "CLIENT_SECRET:1QYPDRIYN41TVXGFBMFIMDUG1WLFW2SEDMPOYCJCP1NOCBJ1\n"
     ]
    }
   ],
   "source": [
    "CLIENT_ID = 'HUIXUMHELPDOY0XYRWPT3XMBZLIM54IC1TUCM4RUWKFIKMZL' # your Foursquare ID\n",
    "CLIENT_SECRET = '1QYPDRIYN41TVXGFBMFIMDUG1WLFW2SEDMPOYCJCP1NOCBJ1' # your Foursquare Secret\n",
    "VERSION = '20190922'\n",
    "LIMIT = 30\n",
    "print('Your credentails:')\n",
    "print('CLIENT_ID: ' + CLIENT_ID)\n",
    "print('CLIENT_SECRET:' + CLIENT_SECRET)"
   ]
  },
  {
   "cell_type": "markdown",
   "metadata": {
    "button": false,
    "new_sheet": false,
    "run_control": {
     "read_only": false
    }
   },
   "source": [
    "  "
   ]
  },
  {
   "cell_type": "markdown",
   "metadata": {
    "button": false,
    "new_sheet": false,
    "run_control": {
     "read_only": false
    }
   },
   "source": [
    "#### We are Using the Federal Palace Hotel  which is the biggest hotel in Lagos Nigeria as our case study. So we assume we have a guest at the Hotel and he wants to know the Chinese Restaurants close by."
   ]
  },
  {
   "cell_type": "markdown",
   "metadata": {},
   "source": [
    "In order to define an instance of the geocoder, we need to define a user_agent. We will name our agent <em>foursquare_agent</em>, as shown below."
   ]
  },
  {
   "cell_type": "code",
   "execution_count": 4,
   "metadata": {
    "button": false,
    "jupyter": {
     "outputs_hidden": false
    },
    "new_sheet": false,
    "run_control": {
     "read_only": false
    }
   },
   "outputs": [
    {
     "name": "stdout",
     "output_type": "stream",
     "text": [
      "6.4373261 3.4077177\n"
     ]
    }
   ],
   "source": [
    "address = '6-8, Ahmadu Bello Way, Victoria Island Lagos'\n",
    "\n",
    "geolocator = Nominatim(user_agent=\"foursquare_agent\")\n",
    "location = geolocator.geocode(address)\n",
    "latitude = location.latitude\n",
    "longitude = location.longitude\n",
    "print(latitude, longitude)"
   ]
  },
  {
   "cell_type": "markdown",
   "metadata": {
    "button": false,
    "new_sheet": false,
    "run_control": {
     "read_only": false
    }
   },
   "source": [
    "   "
   ]
  },
  {
   "cell_type": "markdown",
   "metadata": {
    "button": false,
    "new_sheet": false,
    "run_control": {
     "read_only": false
    }
   },
   "source": [
    "<a id=\"item1\"></a>"
   ]
  },
  {
   "cell_type": "markdown",
   "metadata": {
    "button": false,
    "new_sheet": false,
    "run_control": {
     "read_only": false
    }
   },
   "source": [
    "## 1. Search for Specific Location\n",
    "> `https://api.foursquare.com/v2/venues/`**search**`?client_id=`**CLIENT_ID**`&client_secret=`**CLIENT_SECRET**`&ll=`**LATITUDE**`,`**LONGITUDE**`&v=`**VERSION**`&query=`**QUERY**`&radius=`**RADIUS**`&limit=`**LIMIT**"
   ]
  },
  {
   "cell_type": "markdown",
   "metadata": {
    "button": false,
    "new_sheet": false,
    "run_control": {
     "read_only": false
    }
   },
   "source": [
    "#### Now,  We Assume we Have Chinese Guest at this hotel and its lunch time, and they are desirous of knowing the closest chinese restaurants nearby. So, we define a query to search for Chinese Restaurants that is within 500 metres from the Federal Palace Hotel. "
   ]
  },
  {
   "cell_type": "code",
   "execution_count": 5,
   "metadata": {
    "button": false,
    "jupyter": {
     "outputs_hidden": false
    },
    "new_sheet": false,
    "run_control": {
     "read_only": false
    },
    "scrolled": true
   },
   "outputs": [
    {
     "name": "stdout",
     "output_type": "stream",
     "text": [
      "Chinese Restaurant .... OK!\n"
     ]
    }
   ],
   "source": [
    "search_query = 'Chinese Restaurant'\n",
    "radius = 1000\n",
    "print(search_query + ' .... OK!')"
   ]
  },
  {
   "cell_type": "markdown",
   "metadata": {
    "button": false,
    "new_sheet": false,
    "run_control": {
     "read_only": false
    }
   },
   "source": [
    "#### Define the corresponding URL"
   ]
  },
  {
   "cell_type": "code",
   "execution_count": 6,
   "metadata": {
    "button": false,
    "jupyter": {
     "outputs_hidden": false
    },
    "new_sheet": false,
    "run_control": {
     "read_only": false
    }
   },
   "outputs": [
    {
     "data": {
      "text/plain": [
       "'https://api.foursquare.com/v2/venues/search?client_id=HUIXUMHELPDOY0XYRWPT3XMBZLIM54IC1TUCM4RUWKFIKMZL&client_secret=1QYPDRIYN41TVXGFBMFIMDUG1WLFW2SEDMPOYCJCP1NOCBJ1&ll=6.4373261,3.4077177&v=20190922&query=Chinese Restaurant&radius=1000&limit=30'"
      ]
     },
     "execution_count": 6,
     "metadata": {},
     "output_type": "execute_result"
    }
   ],
   "source": [
    "url = 'https://api.foursquare.com/v2/venues/search?client_id={}&client_secret={}&ll={},{}&v={}&query={}&radius={}&limit={}'.format(CLIENT_ID, CLIENT_SECRET, latitude, longitude, VERSION, search_query, radius, LIMIT)\n",
    "url"
   ]
  },
  {
   "cell_type": "markdown",
   "metadata": {
    "button": false,
    "new_sheet": false,
    "run_control": {
     "read_only": false
    }
   },
   "source": [
    "#### Send the GET Request and examine the results. Here is the Main deal We make calls to the Foursquare API to get the restaurants nearby"
   ]
  },
  {
   "cell_type": "code",
   "execution_count": 7,
   "metadata": {
    "button": false,
    "jupyter": {
     "outputs_hidden": false
    },
    "new_sheet": false,
    "run_control": {
     "read_only": false
    },
    "scrolled": true
   },
   "outputs": [
    {
     "data": {
      "text/plain": [
       "{'meta': {'code': 200, 'requestId': '5d8a847d6f0aa200399495bc'},\n",
       " 'response': {'venues': [{'id': '52cbe5b8498e43eff58e7bbd',\n",
       "    'name': 'Chinese Embassy',\n",
       "    'location': {'lat': 6.429961852255445,\n",
       "     'lng': 3.4089678096473217,\n",
       "     'labeledLatLngs': [{'label': 'display',\n",
       "       'lat': 6.429961852255445,\n",
       "       'lng': 3.4089678096473217}],\n",
       "     'distance': 831,\n",
       "     'cc': 'NG',\n",
       "     'city': 'Lagos',\n",
       "     'state': 'Lagos',\n",
       "     'country': 'Nigeria',\n",
       "     'formattedAddress': ['Lagos', 'Lagos', 'Nigeria']},\n",
       "    'categories': [{'id': '4bf58dd8d48988d12c951735',\n",
       "      'name': 'Embassy / Consulate',\n",
       "      'pluralName': 'Embassies / Consulates',\n",
       "      'shortName': 'Embassy',\n",
       "      'icon': {'prefix': 'https://ss3.4sqi.net/img/categories_v2/travel/embassy_',\n",
       "       'suffix': '.png'},\n",
       "      'primary': True}],\n",
       "    'referralId': 'v-1569358973',\n",
       "    'hasPerk': False},\n",
       "   {'id': '4be446d82457a593fefba915',\n",
       "    'name': 'Lagoon Restaurant',\n",
       "    'location': {'address': 'Ozumba Mbadiwe',\n",
       "     'lat': 6.437342578688403,\n",
       "     'lng': 3.4149947336141335,\n",
       "     'labeledLatLngs': [{'label': 'display',\n",
       "       'lat': 6.437342578688403,\n",
       "       'lng': 3.4149947336141335}],\n",
       "     'distance': 804,\n",
       "     'cc': 'NG',\n",
       "     'city': 'Lagos',\n",
       "     'state': 'Lagos',\n",
       "     'country': 'Nigeria',\n",
       "     'formattedAddress': ['Ozumba Mbadiwe', 'Lagos', 'Lagos', 'Nigeria']},\n",
       "    'categories': [{'id': '4bf58dd8d48988d16b941735',\n",
       "      'name': 'Brazilian Restaurant',\n",
       "      'pluralName': 'Brazilian Restaurants',\n",
       "      'shortName': 'Brazilian',\n",
       "      'icon': {'prefix': 'https://ss3.4sqi.net/img/categories_v2/food/argentinian_',\n",
       "       'suffix': '.png'},\n",
       "      'primary': True}],\n",
       "    'referralId': 'v-1569358973',\n",
       "    'hasPerk': False},\n",
       "   {'id': '4bd060aeb221c9b62b84d3d0',\n",
       "    'name': 'Air force base restaurant',\n",
       "    'location': {'address': '1 kofo abayomi street victoria island',\n",
       "     'crossStreet': 'Ozumba mbadiwe street',\n",
       "     'lat': 6.435896382094165,\n",
       "     'lng': 3.4115885783539035,\n",
       "     'labeledLatLngs': [{'label': 'display',\n",
       "       'lat': 6.435896382094165,\n",
       "       'lng': 3.4115885783539035}],\n",
       "     'distance': 456,\n",
       "     'cc': 'NG',\n",
       "     'city': 'Lagos',\n",
       "     'state': 'Lagos',\n",
       "     'country': 'Nigeria',\n",
       "     'formattedAddress': ['1 kofo abayomi street victoria island (Ozumba mbadiwe street)',\n",
       "      'Lagos',\n",
       "      'Lagos',\n",
       "      'Nigeria']},\n",
       "    'categories': [{'id': '4bf58dd8d48988d1c8941735',\n",
       "      'name': 'African Restaurant',\n",
       "      'pluralName': 'African Restaurants',\n",
       "      'shortName': 'African',\n",
       "      'icon': {'prefix': 'https://ss3.4sqi.net/img/categories_v2/food/african_',\n",
       "       'suffix': '.png'},\n",
       "      'primary': True}],\n",
       "    'referralId': 'v-1569358973',\n",
       "    'hasPerk': False},\n",
       "   {'id': '4e887ce4dab41f4aaf74307c',\n",
       "    'name': 'Sherlaton Restaurant',\n",
       "    'location': {'lat': 6.429446790412878,\n",
       "     'lng': 3.409489981813186,\n",
       "     'labeledLatLngs': [{'label': 'display',\n",
       "       'lat': 6.429446790412878,\n",
       "       'lng': 3.409489981813186}],\n",
       "     'distance': 898,\n",
       "     'cc': 'NG',\n",
       "     'city': 'Victoria Island',\n",
       "     'state': 'Lagos',\n",
       "     'country': 'Nigeria',\n",
       "     'formattedAddress': ['Victoria Island', 'Lagos', 'Nigeria']},\n",
       "    'categories': [{'id': '4bf58dd8d48988d10f941735',\n",
       "      'name': 'Indian Restaurant',\n",
       "      'pluralName': 'Indian Restaurants',\n",
       "      'shortName': 'Indian',\n",
       "      'icon': {'prefix': 'https://ss3.4sqi.net/img/categories_v2/food/indian_',\n",
       "       'suffix': '.png'},\n",
       "      'primary': True}],\n",
       "    'referralId': 'v-1569358973',\n",
       "    'hasPerk': False},\n",
       "   {'id': '5014ed33e4b0c3be97dd8ada',\n",
       "    'name': 'Covenant Christian Center Lagoon Restaurant',\n",
       "    'location': {'address': 'Lagoon Restaurant, Ozumba Mbadigwe VI, Lagos',\n",
       "     'lat': 6.436469828260841,\n",
       "     'lng': 3.414884441269959,\n",
       "     'labeledLatLngs': [{'label': 'display',\n",
       "       'lat': 6.436469828260841,\n",
       "       'lng': 3.414884441269959}],\n",
       "     'distance': 798,\n",
       "     'cc': 'NG',\n",
       "     'city': 'Lagos',\n",
       "     'state': 'Lagos',\n",
       "     'country': 'Nigeria',\n",
       "     'formattedAddress': ['Lagoon Restaurant, Ozumba Mbadigwe VI, Lagos',\n",
       "      'Lagos',\n",
       "      'Lagos',\n",
       "      'Nigeria']},\n",
       "    'categories': [{'id': '4bf58dd8d48988d132941735',\n",
       "      'name': 'Church',\n",
       "      'pluralName': 'Churches',\n",
       "      'shortName': 'Church',\n",
       "      'icon': {'prefix': 'https://ss3.4sqi.net/img/categories_v2/building/religious_church_',\n",
       "       'suffix': '.png'},\n",
       "      'primary': True}],\n",
       "    'referralId': 'v-1569358973',\n",
       "    'hasPerk': False},\n",
       "   {'id': '4e778af91f6e072f1497d5e7',\n",
       "    'name': 'Saffron Restaurant and Bar',\n",
       "    'location': {'address': 'Ground Floor, Silverbird Galleria',\n",
       "     'lat': 6.42817901521108,\n",
       "     'lng': 3.4087410159205755,\n",
       "     'labeledLatLngs': [{'label': 'display',\n",
       "       'lat': 6.42817901521108,\n",
       "       'lng': 3.4087410159205755}],\n",
       "     'distance': 1024,\n",
       "     'cc': 'NG',\n",
       "     'city': 'Victoria Island',\n",
       "     'state': 'Lagos',\n",
       "     'country': 'Nigeria',\n",
       "     'formattedAddress': ['Ground Floor, Silverbird Galleria',\n",
       "      'Victoria Island',\n",
       "      'Lagos',\n",
       "      'Nigeria']},\n",
       "    'categories': [{'id': '4bf58dd8d48988d147941735',\n",
       "      'name': 'Diner',\n",
       "      'pluralName': 'Diners',\n",
       "      'shortName': 'Diner',\n",
       "      'icon': {'prefix': 'https://ss3.4sqi.net/img/categories_v2/food/diner_',\n",
       "       'suffix': '.png'},\n",
       "      'primary': True}],\n",
       "    'referralId': 'v-1569358973',\n",
       "    'hasPerk': False},\n",
       "   {'id': '50e74f76e4b0d76331866e81',\n",
       "    'name': 'Michael Restaurant & Bar',\n",
       "    'location': {'lat': 6.426926579590965,\n",
       "     'lng': 3.409120519804946,\n",
       "     'labeledLatLngs': [{'label': 'display',\n",
       "       'lat': 6.426926579590965,\n",
       "       'lng': 3.409120519804946}],\n",
       "     'distance': 1168,\n",
       "     'cc': 'NG',\n",
       "     'city': 'Lagos',\n",
       "     'state': 'Lagos',\n",
       "     'country': 'Nigeria',\n",
       "     'formattedAddress': ['Lagos', 'Lagos', 'Nigeria']},\n",
       "    'categories': [{'id': '4bf58dd8d48988d11d941735',\n",
       "      'name': 'Sports Bar',\n",
       "      'pluralName': 'Sports Bars',\n",
       "      'shortName': 'Sports Bar',\n",
       "      'icon': {'prefix': 'https://ss3.4sqi.net/img/categories_v2/nightlife/sportsbar_',\n",
       "       'suffix': '.png'},\n",
       "      'primary': True}],\n",
       "    'referralId': 'v-1569358973',\n",
       "    'hasPerk': False},\n",
       "   {'id': '51741aa0498efc18be344c96',\n",
       "    'name': 'New China Restaurant',\n",
       "    'location': {'address': 'Dominos Supermarket',\n",
       "     'crossStreet': 'Silverbird Galleria',\n",
       "     'lat': 6.428315679917546,\n",
       "     'lng': 3.40873135613958,\n",
       "     'labeledLatLngs': [{'label': 'display',\n",
       "       'lat': 6.428315679917546,\n",
       "       'lng': 3.40873135613958}],\n",
       "     'distance': 1009,\n",
       "     'cc': 'NG',\n",
       "     'city': '133 Ahmadu Bello Way, VI',\n",
       "     'state': 'Lagos',\n",
       "     'country': 'Nigeria',\n",
       "     'formattedAddress': ['Dominos Supermarket (Silverbird Galleria)',\n",
       "      '133 Ahmadu Bello Way, VI',\n",
       "      'Lagos',\n",
       "      'Nigeria']},\n",
       "    'categories': [{'id': '4bf58dd8d48988d145941735',\n",
       "      'name': 'Chinese Restaurant',\n",
       "      'pluralName': 'Chinese Restaurants',\n",
       "      'shortName': 'Chinese',\n",
       "      'icon': {'prefix': 'https://ss3.4sqi.net/img/categories_v2/food/asian_',\n",
       "       'suffix': '.png'},\n",
       "      'primary': True}],\n",
       "    'referralId': 'v-1569358973',\n",
       "    'hasPerk': False}]}}"
      ]
     },
     "execution_count": 7,
     "metadata": {},
     "output_type": "execute_result"
    }
   ],
   "source": [
    "results = requests.get(url).json()\n",
    "results"
   ]
  },
  {
   "cell_type": "markdown",
   "metadata": {
    "button": false,
    "new_sheet": false,
    "run_control": {
     "read_only": false
    }
   },
   "source": [
    "#### Extracting the relevant part of JSON and transform it into a *pandas* dataframe"
   ]
  },
  {
   "cell_type": "code",
   "execution_count": 8,
   "metadata": {
    "button": false,
    "jupyter": {
     "outputs_hidden": false
    },
    "new_sheet": false,
    "run_control": {
     "read_only": false
    }
   },
   "outputs": [
    {
     "data": {
      "text/html": [
       "<div>\n",
       "<style scoped>\n",
       "    .dataframe tbody tr th:only-of-type {\n",
       "        vertical-align: middle;\n",
       "    }\n",
       "\n",
       "    .dataframe tbody tr th {\n",
       "        vertical-align: top;\n",
       "    }\n",
       "\n",
       "    .dataframe thead th {\n",
       "        text-align: right;\n",
       "    }\n",
       "</style>\n",
       "<table border=\"1\" class=\"dataframe\">\n",
       "  <thead>\n",
       "    <tr style=\"text-align: right;\">\n",
       "      <th></th>\n",
       "      <th>categories</th>\n",
       "      <th>hasPerk</th>\n",
       "      <th>id</th>\n",
       "      <th>location.address</th>\n",
       "      <th>location.cc</th>\n",
       "      <th>location.city</th>\n",
       "      <th>location.country</th>\n",
       "      <th>location.crossStreet</th>\n",
       "      <th>location.distance</th>\n",
       "      <th>location.formattedAddress</th>\n",
       "      <th>location.labeledLatLngs</th>\n",
       "      <th>location.lat</th>\n",
       "      <th>location.lng</th>\n",
       "      <th>location.state</th>\n",
       "      <th>name</th>\n",
       "      <th>referralId</th>\n",
       "    </tr>\n",
       "  </thead>\n",
       "  <tbody>\n",
       "    <tr>\n",
       "      <th>0</th>\n",
       "      <td>[{'id': '4bf58dd8d48988d12c951735', 'name': 'E...</td>\n",
       "      <td>False</td>\n",
       "      <td>52cbe5b8498e43eff58e7bbd</td>\n",
       "      <td>NaN</td>\n",
       "      <td>NG</td>\n",
       "      <td>Lagos</td>\n",
       "      <td>Nigeria</td>\n",
       "      <td>NaN</td>\n",
       "      <td>831</td>\n",
       "      <td>[Lagos, Lagos, Nigeria]</td>\n",
       "      <td>[{'label': 'display', 'lat': 6.429961852255445...</td>\n",
       "      <td>6.429962</td>\n",
       "      <td>3.408968</td>\n",
       "      <td>Lagos</td>\n",
       "      <td>Chinese Embassy</td>\n",
       "      <td>v-1569358973</td>\n",
       "    </tr>\n",
       "    <tr>\n",
       "      <th>1</th>\n",
       "      <td>[{'id': '4bf58dd8d48988d16b941735', 'name': 'B...</td>\n",
       "      <td>False</td>\n",
       "      <td>4be446d82457a593fefba915</td>\n",
       "      <td>Ozumba Mbadiwe</td>\n",
       "      <td>NG</td>\n",
       "      <td>Lagos</td>\n",
       "      <td>Nigeria</td>\n",
       "      <td>NaN</td>\n",
       "      <td>804</td>\n",
       "      <td>[Ozumba Mbadiwe, Lagos, Lagos, Nigeria]</td>\n",
       "      <td>[{'label': 'display', 'lat': 6.437342578688403...</td>\n",
       "      <td>6.437343</td>\n",
       "      <td>3.414995</td>\n",
       "      <td>Lagos</td>\n",
       "      <td>Lagoon Restaurant</td>\n",
       "      <td>v-1569358973</td>\n",
       "    </tr>\n",
       "    <tr>\n",
       "      <th>2</th>\n",
       "      <td>[{'id': '4bf58dd8d48988d1c8941735', 'name': 'A...</td>\n",
       "      <td>False</td>\n",
       "      <td>4bd060aeb221c9b62b84d3d0</td>\n",
       "      <td>1 kofo abayomi street victoria island</td>\n",
       "      <td>NG</td>\n",
       "      <td>Lagos</td>\n",
       "      <td>Nigeria</td>\n",
       "      <td>Ozumba mbadiwe street</td>\n",
       "      <td>456</td>\n",
       "      <td>[1 kofo abayomi street victoria island (Ozumba...</td>\n",
       "      <td>[{'label': 'display', 'lat': 6.435896382094165...</td>\n",
       "      <td>6.435896</td>\n",
       "      <td>3.411589</td>\n",
       "      <td>Lagos</td>\n",
       "      <td>Air force base restaurant</td>\n",
       "      <td>v-1569358973</td>\n",
       "    </tr>\n",
       "    <tr>\n",
       "      <th>3</th>\n",
       "      <td>[{'id': '4bf58dd8d48988d10f941735', 'name': 'I...</td>\n",
       "      <td>False</td>\n",
       "      <td>4e887ce4dab41f4aaf74307c</td>\n",
       "      <td>NaN</td>\n",
       "      <td>NG</td>\n",
       "      <td>Victoria Island</td>\n",
       "      <td>Nigeria</td>\n",
       "      <td>NaN</td>\n",
       "      <td>898</td>\n",
       "      <td>[Victoria Island, Lagos, Nigeria]</td>\n",
       "      <td>[{'label': 'display', 'lat': 6.429446790412878...</td>\n",
       "      <td>6.429447</td>\n",
       "      <td>3.409490</td>\n",
       "      <td>Lagos</td>\n",
       "      <td>Sherlaton Restaurant</td>\n",
       "      <td>v-1569358973</td>\n",
       "    </tr>\n",
       "    <tr>\n",
       "      <th>4</th>\n",
       "      <td>[{'id': '4bf58dd8d48988d132941735', 'name': 'C...</td>\n",
       "      <td>False</td>\n",
       "      <td>5014ed33e4b0c3be97dd8ada</td>\n",
       "      <td>Lagoon Restaurant, Ozumba Mbadigwe VI, Lagos</td>\n",
       "      <td>NG</td>\n",
       "      <td>Lagos</td>\n",
       "      <td>Nigeria</td>\n",
       "      <td>NaN</td>\n",
       "      <td>798</td>\n",
       "      <td>[Lagoon Restaurant, Ozumba Mbadigwe VI, Lagos,...</td>\n",
       "      <td>[{'label': 'display', 'lat': 6.436469828260841...</td>\n",
       "      <td>6.436470</td>\n",
       "      <td>3.414884</td>\n",
       "      <td>Lagos</td>\n",
       "      <td>Covenant Christian Center Lagoon Restaurant</td>\n",
       "      <td>v-1569358973</td>\n",
       "    </tr>\n",
       "  </tbody>\n",
       "</table>\n",
       "</div>"
      ],
      "text/plain": [
       "                                          categories  hasPerk  \\\n",
       "0  [{'id': '4bf58dd8d48988d12c951735', 'name': 'E...    False   \n",
       "1  [{'id': '4bf58dd8d48988d16b941735', 'name': 'B...    False   \n",
       "2  [{'id': '4bf58dd8d48988d1c8941735', 'name': 'A...    False   \n",
       "3  [{'id': '4bf58dd8d48988d10f941735', 'name': 'I...    False   \n",
       "4  [{'id': '4bf58dd8d48988d132941735', 'name': 'C...    False   \n",
       "\n",
       "                         id                              location.address  \\\n",
       "0  52cbe5b8498e43eff58e7bbd                                           NaN   \n",
       "1  4be446d82457a593fefba915                                Ozumba Mbadiwe   \n",
       "2  4bd060aeb221c9b62b84d3d0         1 kofo abayomi street victoria island   \n",
       "3  4e887ce4dab41f4aaf74307c                                           NaN   \n",
       "4  5014ed33e4b0c3be97dd8ada  Lagoon Restaurant, Ozumba Mbadigwe VI, Lagos   \n",
       "\n",
       "  location.cc    location.city location.country   location.crossStreet  \\\n",
       "0          NG            Lagos          Nigeria                    NaN   \n",
       "1          NG            Lagos          Nigeria                    NaN   \n",
       "2          NG            Lagos          Nigeria  Ozumba mbadiwe street   \n",
       "3          NG  Victoria Island          Nigeria                    NaN   \n",
       "4          NG            Lagos          Nigeria                    NaN   \n",
       "\n",
       "   location.distance                          location.formattedAddress  \\\n",
       "0                831                            [Lagos, Lagos, Nigeria]   \n",
       "1                804            [Ozumba Mbadiwe, Lagos, Lagos, Nigeria]   \n",
       "2                456  [1 kofo abayomi street victoria island (Ozumba...   \n",
       "3                898                  [Victoria Island, Lagos, Nigeria]   \n",
       "4                798  [Lagoon Restaurant, Ozumba Mbadigwe VI, Lagos,...   \n",
       "\n",
       "                             location.labeledLatLngs  location.lat  \\\n",
       "0  [{'label': 'display', 'lat': 6.429961852255445...      6.429962   \n",
       "1  [{'label': 'display', 'lat': 6.437342578688403...      6.437343   \n",
       "2  [{'label': 'display', 'lat': 6.435896382094165...      6.435896   \n",
       "3  [{'label': 'display', 'lat': 6.429446790412878...      6.429447   \n",
       "4  [{'label': 'display', 'lat': 6.436469828260841...      6.436470   \n",
       "\n",
       "   location.lng location.state                                         name  \\\n",
       "0      3.408968          Lagos                              Chinese Embassy   \n",
       "1      3.414995          Lagos                            Lagoon Restaurant   \n",
       "2      3.411589          Lagos                    Air force base restaurant   \n",
       "3      3.409490          Lagos                         Sherlaton Restaurant   \n",
       "4      3.414884          Lagos  Covenant Christian Center Lagoon Restaurant   \n",
       "\n",
       "     referralId  \n",
       "0  v-1569358973  \n",
       "1  v-1569358973  \n",
       "2  v-1569358973  \n",
       "3  v-1569358973  \n",
       "4  v-1569358973  "
      ]
     },
     "execution_count": 8,
     "metadata": {},
     "output_type": "execute_result"
    }
   ],
   "source": [
    "# assign relevant part of JSON to venues\n",
    "venues = results['response']['venues']\n",
    "\n",
    "# tranform venues into a dataframe\n",
    "dataframe = json_normalize(venues)\n",
    "dataframe.head()"
   ]
  },
  {
   "cell_type": "markdown",
   "metadata": {
    "button": false,
    "new_sheet": false,
    "run_control": {
     "read_only": false
    }
   },
   "source": [
    "#### Filtering the Information of Interest"
   ]
  },
  {
   "cell_type": "code",
   "execution_count": 9,
   "metadata": {
    "button": false,
    "jupyter": {
     "outputs_hidden": false
    },
    "new_sheet": false,
    "run_control": {
     "read_only": false
    },
    "scrolled": true
   },
   "outputs": [
    {
     "data": {
      "text/html": [
       "<div>\n",
       "<style scoped>\n",
       "    .dataframe tbody tr th:only-of-type {\n",
       "        vertical-align: middle;\n",
       "    }\n",
       "\n",
       "    .dataframe tbody tr th {\n",
       "        vertical-align: top;\n",
       "    }\n",
       "\n",
       "    .dataframe thead th {\n",
       "        text-align: right;\n",
       "    }\n",
       "</style>\n",
       "<table border=\"1\" class=\"dataframe\">\n",
       "  <thead>\n",
       "    <tr style=\"text-align: right;\">\n",
       "      <th></th>\n",
       "      <th>name</th>\n",
       "      <th>categories</th>\n",
       "      <th>address</th>\n",
       "      <th>cc</th>\n",
       "      <th>city</th>\n",
       "      <th>country</th>\n",
       "      <th>crossStreet</th>\n",
       "      <th>distance</th>\n",
       "      <th>formattedAddress</th>\n",
       "      <th>labeledLatLngs</th>\n",
       "      <th>lat</th>\n",
       "      <th>lng</th>\n",
       "      <th>state</th>\n",
       "      <th>id</th>\n",
       "    </tr>\n",
       "  </thead>\n",
       "  <tbody>\n",
       "    <tr>\n",
       "      <th>0</th>\n",
       "      <td>Chinese Embassy</td>\n",
       "      <td>Embassy / Consulate</td>\n",
       "      <td>NaN</td>\n",
       "      <td>NG</td>\n",
       "      <td>Lagos</td>\n",
       "      <td>Nigeria</td>\n",
       "      <td>NaN</td>\n",
       "      <td>831</td>\n",
       "      <td>[Lagos, Lagos, Nigeria]</td>\n",
       "      <td>[{'label': 'display', 'lat': 6.429961852255445...</td>\n",
       "      <td>6.429962</td>\n",
       "      <td>3.408968</td>\n",
       "      <td>Lagos</td>\n",
       "      <td>52cbe5b8498e43eff58e7bbd</td>\n",
       "    </tr>\n",
       "    <tr>\n",
       "      <th>1</th>\n",
       "      <td>Lagoon Restaurant</td>\n",
       "      <td>Brazilian Restaurant</td>\n",
       "      <td>Ozumba Mbadiwe</td>\n",
       "      <td>NG</td>\n",
       "      <td>Lagos</td>\n",
       "      <td>Nigeria</td>\n",
       "      <td>NaN</td>\n",
       "      <td>804</td>\n",
       "      <td>[Ozumba Mbadiwe, Lagos, Lagos, Nigeria]</td>\n",
       "      <td>[{'label': 'display', 'lat': 6.437342578688403...</td>\n",
       "      <td>6.437343</td>\n",
       "      <td>3.414995</td>\n",
       "      <td>Lagos</td>\n",
       "      <td>4be446d82457a593fefba915</td>\n",
       "    </tr>\n",
       "    <tr>\n",
       "      <th>2</th>\n",
       "      <td>Air force base restaurant</td>\n",
       "      <td>African Restaurant</td>\n",
       "      <td>1 kofo abayomi street victoria island</td>\n",
       "      <td>NG</td>\n",
       "      <td>Lagos</td>\n",
       "      <td>Nigeria</td>\n",
       "      <td>Ozumba mbadiwe street</td>\n",
       "      <td>456</td>\n",
       "      <td>[1 kofo abayomi street victoria island (Ozumba...</td>\n",
       "      <td>[{'label': 'display', 'lat': 6.435896382094165...</td>\n",
       "      <td>6.435896</td>\n",
       "      <td>3.411589</td>\n",
       "      <td>Lagos</td>\n",
       "      <td>4bd060aeb221c9b62b84d3d0</td>\n",
       "    </tr>\n",
       "    <tr>\n",
       "      <th>3</th>\n",
       "      <td>Sherlaton Restaurant</td>\n",
       "      <td>Indian Restaurant</td>\n",
       "      <td>NaN</td>\n",
       "      <td>NG</td>\n",
       "      <td>Victoria Island</td>\n",
       "      <td>Nigeria</td>\n",
       "      <td>NaN</td>\n",
       "      <td>898</td>\n",
       "      <td>[Victoria Island, Lagos, Nigeria]</td>\n",
       "      <td>[{'label': 'display', 'lat': 6.429446790412878...</td>\n",
       "      <td>6.429447</td>\n",
       "      <td>3.409490</td>\n",
       "      <td>Lagos</td>\n",
       "      <td>4e887ce4dab41f4aaf74307c</td>\n",
       "    </tr>\n",
       "    <tr>\n",
       "      <th>4</th>\n",
       "      <td>Covenant Christian Center Lagoon Restaurant</td>\n",
       "      <td>Church</td>\n",
       "      <td>Lagoon Restaurant, Ozumba Mbadigwe VI, Lagos</td>\n",
       "      <td>NG</td>\n",
       "      <td>Lagos</td>\n",
       "      <td>Nigeria</td>\n",
       "      <td>NaN</td>\n",
       "      <td>798</td>\n",
       "      <td>[Lagoon Restaurant, Ozumba Mbadigwe VI, Lagos,...</td>\n",
       "      <td>[{'label': 'display', 'lat': 6.436469828260841...</td>\n",
       "      <td>6.436470</td>\n",
       "      <td>3.414884</td>\n",
       "      <td>Lagos</td>\n",
       "      <td>5014ed33e4b0c3be97dd8ada</td>\n",
       "    </tr>\n",
       "    <tr>\n",
       "      <th>5</th>\n",
       "      <td>Saffron Restaurant and Bar</td>\n",
       "      <td>Diner</td>\n",
       "      <td>Ground Floor, Silverbird Galleria</td>\n",
       "      <td>NG</td>\n",
       "      <td>Victoria Island</td>\n",
       "      <td>Nigeria</td>\n",
       "      <td>NaN</td>\n",
       "      <td>1024</td>\n",
       "      <td>[Ground Floor, Silverbird Galleria, Victoria I...</td>\n",
       "      <td>[{'label': 'display', 'lat': 6.42817901521108,...</td>\n",
       "      <td>6.428179</td>\n",
       "      <td>3.408741</td>\n",
       "      <td>Lagos</td>\n",
       "      <td>4e778af91f6e072f1497d5e7</td>\n",
       "    </tr>\n",
       "    <tr>\n",
       "      <th>6</th>\n",
       "      <td>Michael Restaurant &amp; Bar</td>\n",
       "      <td>Sports Bar</td>\n",
       "      <td>NaN</td>\n",
       "      <td>NG</td>\n",
       "      <td>Lagos</td>\n",
       "      <td>Nigeria</td>\n",
       "      <td>NaN</td>\n",
       "      <td>1168</td>\n",
       "      <td>[Lagos, Lagos, Nigeria]</td>\n",
       "      <td>[{'label': 'display', 'lat': 6.426926579590965...</td>\n",
       "      <td>6.426927</td>\n",
       "      <td>3.409121</td>\n",
       "      <td>Lagos</td>\n",
       "      <td>50e74f76e4b0d76331866e81</td>\n",
       "    </tr>\n",
       "    <tr>\n",
       "      <th>7</th>\n",
       "      <td>New China Restaurant</td>\n",
       "      <td>Chinese Restaurant</td>\n",
       "      <td>Dominos Supermarket</td>\n",
       "      <td>NG</td>\n",
       "      <td>133 Ahmadu Bello Way, VI</td>\n",
       "      <td>Nigeria</td>\n",
       "      <td>Silverbird Galleria</td>\n",
       "      <td>1009</td>\n",
       "      <td>[Dominos Supermarket (Silverbird Galleria), 13...</td>\n",
       "      <td>[{'label': 'display', 'lat': 6.428315679917546...</td>\n",
       "      <td>6.428316</td>\n",
       "      <td>3.408731</td>\n",
       "      <td>Lagos</td>\n",
       "      <td>51741aa0498efc18be344c96</td>\n",
       "    </tr>\n",
       "  </tbody>\n",
       "</table>\n",
       "</div>"
      ],
      "text/plain": [
       "                                          name            categories  \\\n",
       "0                              Chinese Embassy   Embassy / Consulate   \n",
       "1                            Lagoon Restaurant  Brazilian Restaurant   \n",
       "2                    Air force base restaurant    African Restaurant   \n",
       "3                         Sherlaton Restaurant     Indian Restaurant   \n",
       "4  Covenant Christian Center Lagoon Restaurant                Church   \n",
       "5                   Saffron Restaurant and Bar                 Diner   \n",
       "6                     Michael Restaurant & Bar            Sports Bar   \n",
       "7                         New China Restaurant    Chinese Restaurant   \n",
       "\n",
       "                                        address  cc                      city  \\\n",
       "0                                           NaN  NG                     Lagos   \n",
       "1                                Ozumba Mbadiwe  NG                     Lagos   \n",
       "2         1 kofo abayomi street victoria island  NG                     Lagos   \n",
       "3                                           NaN  NG           Victoria Island   \n",
       "4  Lagoon Restaurant, Ozumba Mbadigwe VI, Lagos  NG                     Lagos   \n",
       "5             Ground Floor, Silverbird Galleria  NG           Victoria Island   \n",
       "6                                           NaN  NG                     Lagos   \n",
       "7                           Dominos Supermarket  NG  133 Ahmadu Bello Way, VI   \n",
       "\n",
       "   country            crossStreet  distance  \\\n",
       "0  Nigeria                    NaN       831   \n",
       "1  Nigeria                    NaN       804   \n",
       "2  Nigeria  Ozumba mbadiwe street       456   \n",
       "3  Nigeria                    NaN       898   \n",
       "4  Nigeria                    NaN       798   \n",
       "5  Nigeria                    NaN      1024   \n",
       "6  Nigeria                    NaN      1168   \n",
       "7  Nigeria    Silverbird Galleria      1009   \n",
       "\n",
       "                                    formattedAddress  \\\n",
       "0                            [Lagos, Lagos, Nigeria]   \n",
       "1            [Ozumba Mbadiwe, Lagos, Lagos, Nigeria]   \n",
       "2  [1 kofo abayomi street victoria island (Ozumba...   \n",
       "3                  [Victoria Island, Lagos, Nigeria]   \n",
       "4  [Lagoon Restaurant, Ozumba Mbadigwe VI, Lagos,...   \n",
       "5  [Ground Floor, Silverbird Galleria, Victoria I...   \n",
       "6                            [Lagos, Lagos, Nigeria]   \n",
       "7  [Dominos Supermarket (Silverbird Galleria), 13...   \n",
       "\n",
       "                                      labeledLatLngs       lat       lng  \\\n",
       "0  [{'label': 'display', 'lat': 6.429961852255445...  6.429962  3.408968   \n",
       "1  [{'label': 'display', 'lat': 6.437342578688403...  6.437343  3.414995   \n",
       "2  [{'label': 'display', 'lat': 6.435896382094165...  6.435896  3.411589   \n",
       "3  [{'label': 'display', 'lat': 6.429446790412878...  6.429447  3.409490   \n",
       "4  [{'label': 'display', 'lat': 6.436469828260841...  6.436470  3.414884   \n",
       "5  [{'label': 'display', 'lat': 6.42817901521108,...  6.428179  3.408741   \n",
       "6  [{'label': 'display', 'lat': 6.426926579590965...  6.426927  3.409121   \n",
       "7  [{'label': 'display', 'lat': 6.428315679917546...  6.428316  3.408731   \n",
       "\n",
       "   state                        id  \n",
       "0  Lagos  52cbe5b8498e43eff58e7bbd  \n",
       "1  Lagos  4be446d82457a593fefba915  \n",
       "2  Lagos  4bd060aeb221c9b62b84d3d0  \n",
       "3  Lagos  4e887ce4dab41f4aaf74307c  \n",
       "4  Lagos  5014ed33e4b0c3be97dd8ada  \n",
       "5  Lagos  4e778af91f6e072f1497d5e7  \n",
       "6  Lagos  50e74f76e4b0d76331866e81  \n",
       "7  Lagos  51741aa0498efc18be344c96  "
      ]
     },
     "execution_count": 9,
     "metadata": {},
     "output_type": "execute_result"
    }
   ],
   "source": [
    "# keep only columns that include venue name, and anything that is associated with location\n",
    "filtered_columns = ['name', 'categories'] + [col for col in dataframe.columns if col.startswith('location.')] + ['id']\n",
    "dataframe_filtered = dataframe.loc[:, filtered_columns]\n",
    "\n",
    "# function that extracts the category of the venue\n",
    "def get_category_type(row):\n",
    "    try:\n",
    "        categories_list = row['categories']\n",
    "    except:\n",
    "        categories_list = row['venue.categories']\n",
    "        \n",
    "    if len(categories_list) == 0:\n",
    "        return None\n",
    "    else:\n",
    "        return categories_list[0]['name']\n",
    "\n",
    "# filter the category for each row\n",
    "dataframe_filtered['categories'] = dataframe_filtered.apply(get_category_type, axis=1)\n",
    "\n",
    "# clean column names by keeping only last term\n",
    "dataframe_filtered.columns = [column.split('.')[-1] for column in dataframe_filtered.columns]\n",
    "\n",
    "dataframe_filtered"
   ]
  },
  {
   "cell_type": "markdown",
   "metadata": {
    "button": false,
    "new_sheet": false,
    "run_control": {
     "read_only": false
    }
   },
   "source": [
    "#### Its Time to Visualize all the Chinese Restaurants in the neighbourhood of the Federal Palace Hotel"
   ]
  },
  {
   "cell_type": "code",
   "execution_count": null,
   "metadata": {
    "button": false,
    "jupyter": {
     "outputs_hidden": false
    },
    "new_sheet": false,
    "run_control": {
     "read_only": false
    }
   },
   "outputs": [],
   "source": [
    "dataframe_filtered.name"
   ]
  },
  {
   "cell_type": "code",
   "execution_count": 10,
   "metadata": {
    "button": false,
    "jupyter": {
     "outputs_hidden": false
    },
    "new_sheet": false,
    "run_control": {
     "read_only": false
    }
   },
   "outputs": [
    {
     "data": {
      "text/html": [
       "<div style=\"width:100%;\"><div style=\"position:relative;width:100%;height:0;padding-bottom:60%;\"><iframe src=\"data:text/html;charset=utf-8;base64,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\" style=\"position:absolute;width:100%;height:100%;left:0;top:0;border:none !important;\" allowfullscreen webkitallowfullscreen mozallowfullscreen></iframe></div></div>"
      ],
      "text/plain": [
       "<folium.folium.Map at 0x7f7b60eb8f28>"
      ]
     },
     "execution_count": 10,
     "metadata": {},
     "output_type": "execute_result"
    }
   ],
   "source": [
    "venues_map = folium.Map(location=[latitude, longitude], zoom_start=13) # generate map of chinese restaurants aroung Federal Palace Hotel\n",
    "\n",
    "# add a red circle marker to represent the Federal Palce Hotel\n",
    "folium.features.CircleMarker(\n",
    "    [latitude, longitude],\n",
    "    radius=10,\n",
    "    color='red',\n",
    "    popup='Federal Palace Hotel',\n",
    "    fill = True,\n",
    "    fill_color = 'red',\n",
    "    fill_opacity = 0.6\n",
    ").add_to(venues_map)\n",
    "\n",
    "# add the Chinese restaurants as blue circle markers\n",
    "for lat, lng, label in zip(dataframe_filtered.lat, dataframe_filtered.lng, dataframe_filtered.categories):\n",
    "    folium.features.CircleMarker(\n",
    "        [lat, lng],\n",
    "        radius=5,\n",
    "        color='blue',\n",
    "        popup=label,\n",
    "        fill = True,\n",
    "        fill_color='blue',\n",
    "        fill_opacity=0.6\n",
    "    ).add_to(venues_map)\n",
    "\n",
    "# display map\n",
    "venues_map"
   ]
  },
  {
   "cell_type": "markdown",
   "metadata": {
    "button": false,
    "new_sheet": false,
    "run_control": {
     "read_only": false
    }
   },
   "source": [
    "   "
   ]
  },
  {
   "cell_type": "markdown",
   "metadata": {
    "button": false,
    "new_sheet": false,
    "run_control": {
     "read_only": false
    }
   },
   "source": [
    "<a id=\"item2\"></a>"
   ]
  },
  {
   "cell_type": "markdown",
   "metadata": {
    "button": false,
    "new_sheet": false,
    "run_control": {
     "read_only": false
    }
   },
   "source": [
    "## 2. Explore a Given Venue\n",
    "> `https://api.foursquare.com/v2/venues/`**VENUE_ID**`?client_id=`**CLIENT_ID**`&client_secret=`**CLIENT_SECRET**`&v=`**VERSION**"
   ]
  },
  {
   "cell_type": "markdown",
   "metadata": {
    "button": false,
    "new_sheet": false,
    "run_control": {
     "read_only": false
    }
   },
   "source": [
    "### A. Let's explore the closest Italian restaurant -- _Airforce Base Restaurant_"
   ]
  },
  {
   "cell_type": "code",
   "execution_count": 11,
   "metadata": {
    "button": false,
    "jupyter": {
     "outputs_hidden": false
    },
    "new_sheet": false,
    "run_control": {
     "read_only": false
    }
   },
   "outputs": [
    {
     "data": {
      "text/plain": [
       "'https://api.foursquare.com/v2/venues/4bd060aeb221c9b62b84d3d0?client_id=HUIXUMHELPDOY0XYRWPT3XMBZLIM54IC1TUCM4RUWKFIKMZL&client_secret=1QYPDRIYN41TVXGFBMFIMDUG1WLFW2SEDMPOYCJCP1NOCBJ1&v=20190922'"
      ]
     },
     "execution_count": 11,
     "metadata": {},
     "output_type": "execute_result"
    }
   ],
   "source": [
    "venue_id = '4bd060aeb221c9b62b84d3d0' # ID of Airforce Baase Restaurant\n",
    "url = 'https://api.foursquare.com/v2/venues/{}?client_id={}&client_secret={}&v={}'.format(venue_id, CLIENT_ID, CLIENT_SECRET, VERSION)\n",
    "url"
   ]
  },
  {
   "cell_type": "markdown",
   "metadata": {
    "button": false,
    "new_sheet": false,
    "run_control": {
     "read_only": false
    }
   },
   "source": [
    "#### Send GET request for result"
   ]
  },
  {
   "cell_type": "code",
   "execution_count": 12,
   "metadata": {
    "button": false,
    "jupyter": {
     "outputs_hidden": false
    },
    "new_sheet": false,
    "run_control": {
     "read_only": false
    }
   },
   "outputs": [
    {
     "name": "stdout",
     "output_type": "stream",
     "text": [
      "dict_keys(['id', 'name', 'contact', 'location', 'canonicalUrl', 'categories', 'verified', 'stats', 'price', 'likes', 'dislike', 'ok', 'allowMenuUrlEdit', 'beenHere', 'specials', 'photos', 'reasons', 'hereNow', 'createdAt', 'tips', 'shortUrl', 'timeZone', 'listed', 'pageUpdates', 'inbox', 'attributes'])\n"
     ]
    },
    {
     "data": {
      "text/plain": [
       "{'id': '4bd060aeb221c9b62b84d3d0',\n",
       " 'name': 'Air force base restaurant',\n",
       " 'contact': {},\n",
       " 'location': {'address': '1 kofo abayomi street victoria island',\n",
       "  'crossStreet': 'Ozumba mbadiwe street',\n",
       "  'lat': 6.435896382094165,\n",
       "  'lng': 3.4115885783539035,\n",
       "  'labeledLatLngs': [{'label': 'display',\n",
       "    'lat': 6.435896382094165,\n",
       "    'lng': 3.4115885783539035}],\n",
       "  'cc': 'NG',\n",
       "  'city': 'Lagos',\n",
       "  'state': 'Lagos',\n",
       "  'country': 'Nigeria',\n",
       "  'formattedAddress': ['1 kofo abayomi street victoria island (Ozumba mbadiwe street)',\n",
       "   'Lagos',\n",
       "   'Lagos',\n",
       "   'Nigeria']},\n",
       " 'canonicalUrl': 'https://foursquare.com/v/air-force-base-restaurant/4bd060aeb221c9b62b84d3d0',\n",
       " 'categories': [{'id': '4bf58dd8d48988d1c8941735',\n",
       "   'name': 'African Restaurant',\n",
       "   'pluralName': 'African Restaurants',\n",
       "   'shortName': 'African',\n",
       "   'icon': {'prefix': 'https://ss3.4sqi.net/img/categories_v2/food/african_',\n",
       "    'suffix': '.png'},\n",
       "   'primary': True}],\n",
       " 'verified': False,\n",
       " 'stats': {'tipCount': 1},\n",
       " 'price': {'tier': 2, 'message': 'Moderate', 'currency': '$'},\n",
       " 'likes': {'count': 0, 'groups': []},\n",
       " 'dislike': False,\n",
       " 'ok': False,\n",
       " 'allowMenuUrlEdit': True,\n",
       " 'beenHere': {'count': 0,\n",
       "  'unconfirmedCount': 0,\n",
       "  'marked': False,\n",
       "  'lastCheckinExpiredAt': 0},\n",
       " 'specials': {'count': 0, 'items': []},\n",
       " 'photos': {'count': 0,\n",
       "  'groups': [{'type': 'checkin',\n",
       "    'name': \"Friends' check-in photos\",\n",
       "    'count': 0,\n",
       "    'items': []}],\n",
       "  'summary': 'No photos'},\n",
       " 'reasons': {'count': 0, 'items': []},\n",
       " 'hereNow': {'count': 0, 'summary': 'Nobody here', 'groups': []},\n",
       " 'createdAt': 1271947438,\n",
       " 'tips': {'count': 1,\n",
       "  'groups': [{'type': 'others',\n",
       "    'name': 'All tips',\n",
       "    'count': 1,\n",
       "    'items': [{'id': '51bb120ae4b090ea9e9f6de5',\n",
       "      'createdAt': 1371214346,\n",
       "      'text': 'The barbeque fish is wow',\n",
       "      'type': 'user',\n",
       "      'canonicalUrl': 'https://foursquare.com/item/51bb120ae4b090ea9e9f6de5',\n",
       "      'lang': 'en',\n",
       "      'likes': {'count': 7,\n",
       "       'groups': [{'type': 'others',\n",
       "         'count': 7,\n",
       "         'items': [{'id': '98049839',\n",
       "           'firstName': 'Yakubu',\n",
       "           'lastName': 'Yusuf',\n",
       "           'gender': 'male',\n",
       "           'photo': {'prefix': 'https://fastly.4sqi.net/img/user/',\n",
       "            'suffix': '/98049839-G1N2BNRB1EJSDKBK.jpg'}},\n",
       "          {'id': '75797813',\n",
       "           'firstName': 'Hilary Sunmon Olamilekan',\n",
       "           'lastName': 'Hilarious',\n",
       "           'gender': 'male',\n",
       "           'photo': {'prefix': 'https://fastly.4sqi.net/img/user/',\n",
       "            'suffix': '/75797813-QVZPBZ03DK4MWBR1.jpg'}},\n",
       "          {'id': '77087986',\n",
       "           'firstName': 'Gentility',\n",
       "           'lastName': 'Dejoe',\n",
       "           'gender': 'male',\n",
       "           'photo': {'prefix': 'https://fastly.4sqi.net/img/user/',\n",
       "            'suffix': '/77087986-44TL3U5O0SMG4QHP.jpg'}},\n",
       "          {'id': '13239680',\n",
       "           'firstName': 'Adams',\n",
       "           'lastName': 'al-Danjuma',\n",
       "           'gender': 'male',\n",
       "           'photo': {'prefix': 'https://fastly.4sqi.net/img/user/',\n",
       "            'suffix': '/blank_boy.png',\n",
       "            'default': True}}]}],\n",
       "       'summary': '7 likes'},\n",
       "      'logView': True,\n",
       "      'agreeCount': 7,\n",
       "      'disagreeCount': 0,\n",
       "      'todo': {'count': 1},\n",
       "      'user': {'id': '10546132',\n",
       "       'firstName': 'khadeejah',\n",
       "       'gender': 'female',\n",
       "       'photo': {'prefix': 'https://fastly.4sqi.net/img/user/',\n",
       "        'suffix': '/10546132_Yxo0vwI0_N8UODRVAb91Uk9d6NmCq8YFbe17Gxpi7C81k1yg-o75o--T86EIrf2fAm17aWPhV.jpg'}}}]}]},\n",
       " 'shortUrl': 'http://4sq.com/aJ4Smm',\n",
       " 'timeZone': 'Africa/Lagos',\n",
       " 'listed': {'count': 0,\n",
       "  'groups': [{'type': 'others',\n",
       "    'name': 'Lists from other people',\n",
       "    'count': 0,\n",
       "    'items': []}]},\n",
       " 'pageUpdates': {'count': 0, 'items': []},\n",
       " 'inbox': {'count': 0, 'items': []},\n",
       " 'attributes': {'groups': [{'type': 'price',\n",
       "    'name': 'Price',\n",
       "    'summary': '$$',\n",
       "    'count': 1,\n",
       "    'items': [{'displayName': 'Price',\n",
       "      'displayValue': '$$',\n",
       "      'priceTier': 2}]}]}}"
      ]
     },
     "execution_count": 12,
     "metadata": {},
     "output_type": "execute_result"
    }
   ],
   "source": [
    "result = requests.get(url).json()\n",
    "print(result['response']['venue'].keys())\n",
    "result['response']['venue']"
   ]
  },
  {
   "cell_type": "markdown",
   "metadata": {
    "button": false,
    "new_sheet": false,
    "run_control": {
     "read_only": false
    }
   },
   "source": [
    "### A. Getting the overall rating for the Airforce Base Restaurants"
   ]
  },
  {
   "cell_type": "code",
   "execution_count": 13,
   "metadata": {
    "button": false,
    "jupyter": {
     "outputs_hidden": false
    },
    "new_sheet": false,
    "run_control": {
     "read_only": false
    }
   },
   "outputs": [
    {
     "name": "stdout",
     "output_type": "stream",
     "text": [
      "This venue has not been rated yet.\n"
     ]
    }
   ],
   "source": [
    "try:\n",
    "    print(result['response']['venue']['rating'])\n",
    "except:\n",
    "    print('This venue has not been rated yet.')"
   ]
  },
  {
   "cell_type": "markdown",
   "metadata": {
    "button": false,
    "new_sheet": false,
    "run_control": {
     "read_only": false
    }
   },
   "source": [
    "### B. Getting the overall rating for the New China Restaurant"
   ]
  },
  {
   "cell_type": "code",
   "execution_count": 15,
   "metadata": {
    "button": false,
    "jupyter": {
     "outputs_hidden": false
    },
    "new_sheet": false,
    "run_control": {
     "read_only": false
    }
   },
   "outputs": [
    {
     "name": "stdout",
     "output_type": "stream",
     "text": [
      "This venue has no rating yet.\n"
     ]
    }
   ],
   "source": [
    "venue_id = '51741aa0498efc18be344c96' # ID of New China Restaurant\n",
    "url = 'https://api.foursquare.com/v2/venues/{}?client_id={}&client_secret={}&v={}'.format(venue_id, CLIENT_ID, CLIENT_SECRET, VERSION)\n",
    "\n",
    "result = requests.get(url).json()\n",
    "try:\n",
    "    print(result['response']['venue']['rating'])\n",
    "except:\n",
    "    print('This venue has no rating yet.')"
   ]
  },
  {
   "cell_type": "markdown",
   "metadata": {
    "button": false,
    "new_sheet": false,
    "run_control": {
     "read_only": false
    }
   },
   "source": [
    "### C. Getting the overall rating for Saffron Restaurant"
   ]
  },
  {
   "cell_type": "code",
   "execution_count": 16,
   "metadata": {
    "button": false,
    "jupyter": {
     "outputs_hidden": false
    },
    "new_sheet": false,
    "run_control": {
     "read_only": false
    }
   },
   "outputs": [
    {
     "name": "stdout",
     "output_type": "stream",
     "text": [
      "This venue has no rating yet.\n"
     ]
    }
   ],
   "source": [
    "venue_id = '4e778af91f6e072f1497d5e' # ID of Saffron Restaurant\n",
    "url = 'https://api.foursquare.com/v2/venues/{}?client_id={}&client_secret={}&v={}'.format(venue_id, CLIENT_ID, CLIENT_SECRET, VERSION)\n",
    "\n",
    "result = requests.get(url).json()\n",
    "try:\n",
    "    print(result['response']['venue']['rating'])\n",
    "except:\n",
    "    print('This venue has no rating yet.')"
   ]
  },
  {
   "cell_type": "markdown",
   "metadata": {
    "button": false,
    "new_sheet": false,
    "run_control": {
     "read_only": false
    }
   },
   "source": [
    "  "
   ]
  },
  {
   "cell_type": "markdown",
   "metadata": {
    "button": false,
    "new_sheet": false,
    "run_control": {
     "read_only": false
    }
   },
   "source": [
    "<a id=\"item4\"></a>"
   ]
  },
  {
   "cell_type": "markdown",
   "metadata": {
    "button": false,
    "new_sheet": false,
    "run_control": {
     "read_only": false
    }
   },
   "source": [
    "## 4. Explore a location\n",
    "> `https://api.foursquare.com/v2/venues/`**explore**`?client_id=`**CLIENT_ID**`&client_secret=`**CLIENT_SECRET**`&ll=`**LATITUDE**`,`**LONGITUDE**`&v=`**VERSION**`&limit=`**LIMIT**"
   ]
  },
  {
   "cell_type": "markdown",
   "metadata": {
    "button": false,
    "new_sheet": false,
    "run_control": {
     "read_only": false
    }
   },
   "source": [
    "#### So we may want to further explore the trending places around the Federal Palace Hotel\n",
    "We first define the Longitude and Latitude of the Hotel"
   ]
  },
  {
   "cell_type": "code",
   "execution_count": 17,
   "metadata": {
    "button": false,
    "jupyter": {
     "outputs_hidden": true
    },
    "new_sheet": false,
    "run_control": {
     "read_only": false
    }
   },
   "outputs": [],
   "source": [
    "latitude = 6.4373261\n",
    "longitude = 3.4077177"
   ]
  },
  {
   "cell_type": "markdown",
   "metadata": {
    "button": false,
    "new_sheet": false,
    "run_control": {
     "read_only": false
    }
   },
   "source": [
    "#### Define URL"
   ]
  },
  {
   "cell_type": "code",
   "execution_count": 18,
   "metadata": {
    "button": false,
    "jupyter": {
     "outputs_hidden": false
    },
    "new_sheet": false,
    "run_control": {
     "read_only": false
    }
   },
   "outputs": [
    {
     "data": {
      "text/plain": [
       "'https://api.foursquare.com/v2/venues/explore?client_id=HUIXUMHELPDOY0XYRWPT3XMBZLIM54IC1TUCM4RUWKFIKMZL&client_secret=1QYPDRIYN41TVXGFBMFIMDUG1WLFW2SEDMPOYCJCP1NOCBJ1&ll=6.4373261,3.4077177&v=20190922&radius=1000&limit=30'"
      ]
     },
     "execution_count": 18,
     "metadata": {},
     "output_type": "execute_result"
    }
   ],
   "source": [
    "url = 'https://api.foursquare.com/v2/venues/explore?client_id={}&client_secret={}&ll={},{}&v={}&radius={}&limit={}'.format(CLIENT_ID, CLIENT_SECRET, latitude, longitude, VERSION, radius, LIMIT)\n",
    "url"
   ]
  },
  {
   "cell_type": "markdown",
   "metadata": {
    "button": false,
    "new_sheet": false,
    "run_control": {
     "read_only": false
    }
   },
   "source": [
    "#### Send GET request and examine results"
   ]
  },
  {
   "cell_type": "code",
   "execution_count": 19,
   "metadata": {
    "button": false,
    "jupyter": {
     "outputs_hidden": true
    },
    "new_sheet": false,
    "run_control": {
     "read_only": false
    }
   },
   "outputs": [],
   "source": [
    "import requests"
   ]
  },
  {
   "cell_type": "code",
   "execution_count": 20,
   "metadata": {
    "button": false,
    "jupyter": {
     "outputs_hidden": false
    },
    "new_sheet": false,
    "run_control": {
     "read_only": false
    }
   },
   "outputs": [
    {
     "data": {
      "text/plain": [
       "'There are 24 around The Federal Palace Hotel.'"
      ]
     },
     "execution_count": 20,
     "metadata": {},
     "output_type": "execute_result"
    }
   ],
   "source": [
    "results = requests.get(url).json()\n",
    "'There are {} around The Federal Palace Hotel.'.format(len(results['response']['groups'][0]['items']))"
   ]
  },
  {
   "cell_type": "markdown",
   "metadata": {
    "button": false,
    "new_sheet": false,
    "run_control": {
     "read_only": false
    }
   },
   "source": [
    "#### Get relevant part of JSON"
   ]
  },
  {
   "cell_type": "code",
   "execution_count": 21,
   "metadata": {
    "button": false,
    "jupyter": {
     "outputs_hidden": false
    },
    "new_sheet": false,
    "run_control": {
     "read_only": false
    }
   },
   "outputs": [
    {
     "data": {
      "text/plain": [
       "{'reasons': {'count': 0,\n",
       "  'items': [{'summary': 'This spot is popular',\n",
       "    'type': 'general',\n",
       "    'reasonName': 'globalInteractionReason'}]},\n",
       " 'venue': {'id': '556b4c01498e7fd1525edbab',\n",
       "  'name': 'Hans & René',\n",
       "  'location': {'address': 'Radisson Blu',\n",
       "   'crossStreet': 'Ozumba Mbadiwe',\n",
       "   'lat': 6.436521550578695,\n",
       "   'lng': 3.416506506247353,\n",
       "   'labeledLatLngs': [{'label': 'display',\n",
       "     'lat': 6.436521550578695,\n",
       "     'lng': 3.416506506247353}],\n",
       "   'distance': 976,\n",
       "   'cc': 'NG',\n",
       "   'city': 'Victoria Island',\n",
       "   'state': 'Lagos',\n",
       "   'country': 'Nigeria',\n",
       "   'formattedAddress': ['Radisson Blu (Ozumba Mbadiwe)',\n",
       "    'Victoria Island',\n",
       "    'Lagos',\n",
       "    'Nigeria']},\n",
       "  'categories': [{'id': '4bf58dd8d48988d1c9941735',\n",
       "    'name': 'Ice Cream Shop',\n",
       "    'pluralName': 'Ice Cream Shops',\n",
       "    'shortName': 'Ice Cream',\n",
       "    'icon': {'prefix': 'https://ss3.4sqi.net/img/categories_v2/food/icecream_',\n",
       "     'suffix': '.png'},\n",
       "    'primary': True}],\n",
       "  'photos': {'count': 0, 'groups': []}},\n",
       " 'referralId': 'e-0-556b4c01498e7fd1525edbab-0'}"
      ]
     },
     "execution_count": 21,
     "metadata": {},
     "output_type": "execute_result"
    }
   ],
   "source": [
    "items = results['response']['groups'][0]['items']\n",
    "items[0]"
   ]
  },
  {
   "cell_type": "markdown",
   "metadata": {
    "button": false,
    "new_sheet": false,
    "run_control": {
     "read_only": false
    }
   },
   "source": [
    "#### Process JSON and convert it to a clean dataframe"
   ]
  },
  {
   "cell_type": "code",
   "execution_count": 22,
   "metadata": {
    "button": false,
    "jupyter": {
     "outputs_hidden": false
    },
    "new_sheet": false,
    "run_control": {
     "read_only": false
    }
   },
   "outputs": [
    {
     "data": {
      "text/html": [
       "<div>\n",
       "<style scoped>\n",
       "    .dataframe tbody tr th:only-of-type {\n",
       "        vertical-align: middle;\n",
       "    }\n",
       "\n",
       "    .dataframe tbody tr th {\n",
       "        vertical-align: top;\n",
       "    }\n",
       "\n",
       "    .dataframe thead th {\n",
       "        text-align: right;\n",
       "    }\n",
       "</style>\n",
       "<table border=\"1\" class=\"dataframe\">\n",
       "  <thead>\n",
       "    <tr style=\"text-align: right;\">\n",
       "      <th></th>\n",
       "      <th>name</th>\n",
       "      <th>categories</th>\n",
       "      <th>address</th>\n",
       "      <th>cc</th>\n",
       "      <th>city</th>\n",
       "      <th>country</th>\n",
       "      <th>crossStreet</th>\n",
       "      <th>distance</th>\n",
       "      <th>formattedAddress</th>\n",
       "      <th>labeledLatLngs</th>\n",
       "      <th>lat</th>\n",
       "      <th>lng</th>\n",
       "      <th>neighborhood</th>\n",
       "      <th>postalCode</th>\n",
       "      <th>state</th>\n",
       "      <th>id</th>\n",
       "    </tr>\n",
       "  </thead>\n",
       "  <tbody>\n",
       "    <tr>\n",
       "      <th>0</th>\n",
       "      <td>Hans &amp; René</td>\n",
       "      <td>Ice Cream Shop</td>\n",
       "      <td>Radisson Blu</td>\n",
       "      <td>NG</td>\n",
       "      <td>Victoria Island</td>\n",
       "      <td>Nigeria</td>\n",
       "      <td>Ozumba Mbadiwe</td>\n",
       "      <td>976</td>\n",
       "      <td>[Radisson Blu (Ozumba Mbadiwe), Victoria Islan...</td>\n",
       "      <td>[{'label': 'display', 'lat': 6.436521550578695...</td>\n",
       "      <td>6.436522</td>\n",
       "      <td>3.416507</td>\n",
       "      <td>NaN</td>\n",
       "      <td>NaN</td>\n",
       "      <td>Lagos</td>\n",
       "      <td>556b4c01498e7fd1525edbab</td>\n",
       "    </tr>\n",
       "    <tr>\n",
       "      <th>1</th>\n",
       "      <td>Churrasco</td>\n",
       "      <td>Cocktail Bar</td>\n",
       "      <td>NaN</td>\n",
       "      <td>NG</td>\n",
       "      <td>Lagos</td>\n",
       "      <td>Nigeria</td>\n",
       "      <td>NaN</td>\n",
       "      <td>801</td>\n",
       "      <td>[Lagos, Lagos, Nigeria]</td>\n",
       "      <td>[{'label': 'display', 'lat': 6.437362443081496...</td>\n",
       "      <td>6.437362</td>\n",
       "      <td>3.414960</td>\n",
       "      <td>NaN</td>\n",
       "      <td>NaN</td>\n",
       "      <td>Lagos</td>\n",
       "      <td>4be1e1e44283c9b612cd54f8</td>\n",
       "    </tr>\n",
       "    <tr>\n",
       "      <th>2</th>\n",
       "      <td>Muson Centre</td>\n",
       "      <td>Convention Center</td>\n",
       "      <td>Onikan</td>\n",
       "      <td>NG</td>\n",
       "      <td>Lagos</td>\n",
       "      <td>Nigeria</td>\n",
       "      <td>NaN</td>\n",
       "      <td>992</td>\n",
       "      <td>[Onikan, Lagos, Lagos, Nigeria]</td>\n",
       "      <td>[{'label': 'display', 'lat': 6.443332659885113...</td>\n",
       "      <td>6.443333</td>\n",
       "      <td>3.401084</td>\n",
       "      <td>NaN</td>\n",
       "      <td>NaN</td>\n",
       "      <td>Lagos</td>\n",
       "      <td>4c57462a7613b7132e1b91ea</td>\n",
       "    </tr>\n",
       "    <tr>\n",
       "      <th>3</th>\n",
       "      <td>The Place</td>\n",
       "      <td>Lounge</td>\n",
       "      <td>Adeola Odeku</td>\n",
       "      <td>NG</td>\n",
       "      <td>VI</td>\n",
       "      <td>Nigeria</td>\n",
       "      <td>NaN</td>\n",
       "      <td>856</td>\n",
       "      <td>[Adeola Odeku, VI, Lagos, Nigeria]</td>\n",
       "      <td>[{'label': 'display', 'lat': 6.429952159855158...</td>\n",
       "      <td>6.429952</td>\n",
       "      <td>3.409923</td>\n",
       "      <td>NaN</td>\n",
       "      <td>NaN</td>\n",
       "      <td>Lagos</td>\n",
       "      <td>5621a81e498eeefe0bc252eb</td>\n",
       "    </tr>\n",
       "    <tr>\n",
       "      <th>4</th>\n",
       "      <td>Lagoon Restaurant</td>\n",
       "      <td>Brazilian Restaurant</td>\n",
       "      <td>Ozumba Mbadiwe</td>\n",
       "      <td>NG</td>\n",
       "      <td>Lagos</td>\n",
       "      <td>Nigeria</td>\n",
       "      <td>NaN</td>\n",
       "      <td>804</td>\n",
       "      <td>[Ozumba Mbadiwe, Lagos, Lagos, Nigeria]</td>\n",
       "      <td>[{'label': 'display', 'lat': 6.437342578688403...</td>\n",
       "      <td>6.437343</td>\n",
       "      <td>3.414995</td>\n",
       "      <td>NaN</td>\n",
       "      <td>NaN</td>\n",
       "      <td>Lagos</td>\n",
       "      <td>4be446d82457a593fefba915</td>\n",
       "    </tr>\n",
       "    <tr>\n",
       "      <th>5</th>\n",
       "      <td>Federal Palace Hotel Lagos</td>\n",
       "      <td>Hotel</td>\n",
       "      <td>6-8 Ahmadu Bello Way</td>\n",
       "      <td>NG</td>\n",
       "      <td>Lagos</td>\n",
       "      <td>Nigeria</td>\n",
       "      <td>NaN</td>\n",
       "      <td>757</td>\n",
       "      <td>[6-8 Ahmadu Bello Way, Lagos, Lagos, Nigeria]</td>\n",
       "      <td>[{'label': 'display', 'lat': 6.430543002992509...</td>\n",
       "      <td>6.430543</td>\n",
       "      <td>3.407166</td>\n",
       "      <td>NaN</td>\n",
       "      <td>NaN</td>\n",
       "      <td>Lagos</td>\n",
       "      <td>4bded3c7fe0e62b5f7fa0506</td>\n",
       "    </tr>\n",
       "    <tr>\n",
       "      <th>6</th>\n",
       "      <td>The Backyard Bar &amp; Grill</td>\n",
       "      <td>Bar</td>\n",
       "      <td>NaN</td>\n",
       "      <td>NG</td>\n",
       "      <td>Lagos</td>\n",
       "      <td>Nigeria</td>\n",
       "      <td>NaN</td>\n",
       "      <td>985</td>\n",
       "      <td>[Lagos, Lagos, Nigeria]</td>\n",
       "      <td>[{'label': 'display', 'lat': 6.434327618444297...</td>\n",
       "      <td>6.434328</td>\n",
       "      <td>3.416098</td>\n",
       "      <td>Victoria Island</td>\n",
       "      <td>NaN</td>\n",
       "      <td>Lagos</td>\n",
       "      <td>593c79d73362735a7e142ab9</td>\n",
       "    </tr>\n",
       "    <tr>\n",
       "      <th>7</th>\n",
       "      <td>The Westwood Hotel</td>\n",
       "      <td>Hotel</td>\n",
       "      <td>22 Awolowo Road</td>\n",
       "      <td>NG</td>\n",
       "      <td>Ikoyi</td>\n",
       "      <td>Nigeria</td>\n",
       "      <td>NaN</td>\n",
       "      <td>696</td>\n",
       "      <td>[22 Awolowo Road, Ikoyi, Lagos, Nigeria]</td>\n",
       "      <td>[{'label': 'display', 'lat': 6.443487002093814...</td>\n",
       "      <td>6.443487</td>\n",
       "      <td>3.408793</td>\n",
       "      <td>NaN</td>\n",
       "      <td>NaN</td>\n",
       "      <td>Lagos</td>\n",
       "      <td>4f5d1031e4b085f52ec18248</td>\n",
       "    </tr>\n",
       "    <tr>\n",
       "      <th>8</th>\n",
       "      <td>Swe Bar &amp; Lounge</td>\n",
       "      <td>Lounge</td>\n",
       "      <td>2nd Floor City Mall</td>\n",
       "      <td>NG</td>\n",
       "      <td>Onikan</td>\n",
       "      <td>Nigeria</td>\n",
       "      <td>Onikan</td>\n",
       "      <td>974</td>\n",
       "      <td>[2nd Floor City Mall (Onikan), Onikan, Lagos, ...</td>\n",
       "      <td>[{'label': 'display', 'lat': 6.444630730442229...</td>\n",
       "      <td>6.444631</td>\n",
       "      <td>3.402854</td>\n",
       "      <td>NaN</td>\n",
       "      <td>NaN</td>\n",
       "      <td>Lagos</td>\n",
       "      <td>4b82c2c5f964a5200de330e3</td>\n",
       "    </tr>\n",
       "    <tr>\n",
       "      <th>9</th>\n",
       "      <td>Sherlaton Restaurant</td>\n",
       "      <td>Indian Restaurant</td>\n",
       "      <td>NaN</td>\n",
       "      <td>NG</td>\n",
       "      <td>Victoria Island</td>\n",
       "      <td>Nigeria</td>\n",
       "      <td>NaN</td>\n",
       "      <td>898</td>\n",
       "      <td>[Victoria Island, Lagos, Nigeria]</td>\n",
       "      <td>[{'label': 'display', 'lat': 6.429446790412878...</td>\n",
       "      <td>6.429447</td>\n",
       "      <td>3.409490</td>\n",
       "      <td>NaN</td>\n",
       "      <td>NaN</td>\n",
       "      <td>Lagos</td>\n",
       "      <td>4e887ce4dab41f4aaf74307c</td>\n",
       "    </tr>\n",
       "  </tbody>\n",
       "</table>\n",
       "</div>"
      ],
      "text/plain": [
       "                         name            categories               address  cc  \\\n",
       "0                 Hans & René        Ice Cream Shop          Radisson Blu  NG   \n",
       "1                   Churrasco          Cocktail Bar                   NaN  NG   \n",
       "2                Muson Centre     Convention Center                Onikan  NG   \n",
       "3                   The Place                Lounge          Adeola Odeku  NG   \n",
       "4           Lagoon Restaurant  Brazilian Restaurant        Ozumba Mbadiwe  NG   \n",
       "5  Federal Palace Hotel Lagos                 Hotel  6-8 Ahmadu Bello Way  NG   \n",
       "6    The Backyard Bar & Grill                   Bar                   NaN  NG   \n",
       "7          The Westwood Hotel                 Hotel       22 Awolowo Road  NG   \n",
       "8            Swe Bar & Lounge                Lounge   2nd Floor City Mall  NG   \n",
       "9        Sherlaton Restaurant     Indian Restaurant                   NaN  NG   \n",
       "\n",
       "              city  country     crossStreet  distance  \\\n",
       "0  Victoria Island  Nigeria  Ozumba Mbadiwe       976   \n",
       "1            Lagos  Nigeria             NaN       801   \n",
       "2            Lagos  Nigeria             NaN       992   \n",
       "3               VI  Nigeria             NaN       856   \n",
       "4            Lagos  Nigeria             NaN       804   \n",
       "5            Lagos  Nigeria             NaN       757   \n",
       "6            Lagos  Nigeria             NaN       985   \n",
       "7            Ikoyi  Nigeria             NaN       696   \n",
       "8           Onikan  Nigeria          Onikan       974   \n",
       "9  Victoria Island  Nigeria             NaN       898   \n",
       "\n",
       "                                    formattedAddress  \\\n",
       "0  [Radisson Blu (Ozumba Mbadiwe), Victoria Islan...   \n",
       "1                            [Lagos, Lagos, Nigeria]   \n",
       "2                    [Onikan, Lagos, Lagos, Nigeria]   \n",
       "3                 [Adeola Odeku, VI, Lagos, Nigeria]   \n",
       "4            [Ozumba Mbadiwe, Lagos, Lagos, Nigeria]   \n",
       "5      [6-8 Ahmadu Bello Way, Lagos, Lagos, Nigeria]   \n",
       "6                            [Lagos, Lagos, Nigeria]   \n",
       "7           [22 Awolowo Road, Ikoyi, Lagos, Nigeria]   \n",
       "8  [2nd Floor City Mall (Onikan), Onikan, Lagos, ...   \n",
       "9                  [Victoria Island, Lagos, Nigeria]   \n",
       "\n",
       "                                      labeledLatLngs       lat       lng  \\\n",
       "0  [{'label': 'display', 'lat': 6.436521550578695...  6.436522  3.416507   \n",
       "1  [{'label': 'display', 'lat': 6.437362443081496...  6.437362  3.414960   \n",
       "2  [{'label': 'display', 'lat': 6.443332659885113...  6.443333  3.401084   \n",
       "3  [{'label': 'display', 'lat': 6.429952159855158...  6.429952  3.409923   \n",
       "4  [{'label': 'display', 'lat': 6.437342578688403...  6.437343  3.414995   \n",
       "5  [{'label': 'display', 'lat': 6.430543002992509...  6.430543  3.407166   \n",
       "6  [{'label': 'display', 'lat': 6.434327618444297...  6.434328  3.416098   \n",
       "7  [{'label': 'display', 'lat': 6.443487002093814...  6.443487  3.408793   \n",
       "8  [{'label': 'display', 'lat': 6.444630730442229...  6.444631  3.402854   \n",
       "9  [{'label': 'display', 'lat': 6.429446790412878...  6.429447  3.409490   \n",
       "\n",
       "      neighborhood postalCode  state                        id  \n",
       "0              NaN        NaN  Lagos  556b4c01498e7fd1525edbab  \n",
       "1              NaN        NaN  Lagos  4be1e1e44283c9b612cd54f8  \n",
       "2              NaN        NaN  Lagos  4c57462a7613b7132e1b91ea  \n",
       "3              NaN        NaN  Lagos  5621a81e498eeefe0bc252eb  \n",
       "4              NaN        NaN  Lagos  4be446d82457a593fefba915  \n",
       "5              NaN        NaN  Lagos  4bded3c7fe0e62b5f7fa0506  \n",
       "6  Victoria Island        NaN  Lagos  593c79d73362735a7e142ab9  \n",
       "7              NaN        NaN  Lagos  4f5d1031e4b085f52ec18248  \n",
       "8              NaN        NaN  Lagos  4b82c2c5f964a5200de330e3  \n",
       "9              NaN        NaN  Lagos  4e887ce4dab41f4aaf74307c  "
      ]
     },
     "execution_count": 22,
     "metadata": {},
     "output_type": "execute_result"
    }
   ],
   "source": [
    "dataframe = json_normalize(items) # flatten JSON\n",
    "\n",
    "# filter columns\n",
    "filtered_columns = ['venue.name', 'venue.categories'] + [col for col in dataframe.columns if col.startswith('venue.location.')] + ['venue.id']\n",
    "dataframe_filtered = dataframe.loc[:, filtered_columns]\n",
    "\n",
    "# filter the category for each row\n",
    "dataframe_filtered['venue.categories'] = dataframe_filtered.apply(get_category_type, axis=1)\n",
    "\n",
    "# clean columns\n",
    "dataframe_filtered.columns = [col.split('.')[-1] for col in dataframe_filtered.columns]\n",
    "\n",
    "dataframe_filtered.head(10)"
   ]
  },
  {
   "cell_type": "markdown",
   "metadata": {
    "button": false,
    "new_sheet": false,
    "run_control": {
     "read_only": false
    }
   },
   "source": [
    "#### Let's visualize these items on the map around our location"
   ]
  },
  {
   "cell_type": "code",
   "execution_count": 23,
   "metadata": {
    "button": false,
    "jupyter": {
     "outputs_hidden": false
    },
    "new_sheet": false,
    "run_control": {
     "read_only": false
    }
   },
   "outputs": [
    {
     "data": {
      "text/html": [
       "<div style=\"width:100%;\"><div style=\"position:relative;width:100%;height:0;padding-bottom:60%;\"><iframe src=\"data:text/html;charset=utf-8;base64,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\" style=\"position:absolute;width:100%;height:100%;left:0;top:0;border:none !important;\" allowfullscreen webkitallowfullscreen mozallowfullscreen></iframe></div></div>"
      ],
      "text/plain": [
       "<folium.folium.Map at 0x7f7b60e2e390>"
      ]
     },
     "execution_count": 23,
     "metadata": {},
     "output_type": "execute_result"
    }
   ],
   "source": [
    "venues_map = folium.Map(location=[latitude, longitude], zoom_start=15) # generate map centred around the federal palace hotel\n",
    "\n",
    "\n",
    "# add Ecco as a red circle mark\n",
    "folium.features.CircleMarker(\n",
    "    [latitude, longitude],\n",
    "    radius=10,\n",
    "    popup='Ecco',\n",
    "    fill=True,\n",
    "    color='red',\n",
    "    fill_color='red',\n",
    "    fill_opacity=0.6\n",
    "    ).add_to(venues_map)\n",
    "\n",
    "\n",
    "# add popular spots to the map as blue circle markers\n",
    "for lat, lng, label in zip(dataframe_filtered.lat, dataframe_filtered.lng, dataframe_filtered.categories):\n",
    "    folium.features.CircleMarker(\n",
    "        [lat, lng],\n",
    "        radius=5,\n",
    "        popup=label,\n",
    "        fill=True,\n",
    "        color='blue',\n",
    "        fill_color='blue',\n",
    "        fill_opacity=0.6\n",
    "        ).add_to(venues_map)\n",
    "\n",
    "# display map\n",
    "venues_map"
   ]
  },
  {
   "cell_type": "markdown",
   "metadata": {
    "button": false,
    "new_sheet": false,
    "run_control": {
     "read_only": false
    }
   },
   "source": [
    "   "
   ]
  },
  {
   "cell_type": "markdown",
   "metadata": {
    "button": false,
    "new_sheet": false,
    "run_control": {
     "read_only": false
    }
   },
   "source": [
    "<a id=\"item5\"></a>"
   ]
  },
  {
   "cell_type": "markdown",
   "metadata": {
    "button": false,
    "new_sheet": false,
    "run_control": {
     "read_only": false
    }
   },
   "source": [
    "## 5. Explore Trending Venues\n",
    "> `https://api.foursquare.com/v2/venues/`**trending**`?client_id=`**CLIENT_ID**`&client_secret=`**CLIENT_SECRET**`&ll=`**LATITUDE**`,`**LONGITUDE**`&v=`**VERSION**"
   ]
  },
  {
   "cell_type": "code",
   "execution_count": 24,
   "metadata": {
    "button": false,
    "jupyter": {
     "outputs_hidden": false
    },
    "new_sheet": false,
    "run_control": {
     "read_only": false
    }
   },
   "outputs": [
    {
     "data": {
      "text/plain": [
       "{'meta': {'code': 200, 'requestId': '5d8a8d4a6bdee60039cb1229'},\n",
       " 'response': {'venues': []}}"
      ]
     },
     "execution_count": 24,
     "metadata": {},
     "output_type": "execute_result"
    }
   ],
   "source": [
    "# define URL\n",
    "url = 'https://api.foursquare.com/v2/venues/trending?client_id={}&client_secret={}&ll={},{}&v={}'.format(CLIENT_ID, CLIENT_SECRET, latitude, longitude, VERSION)\n",
    "\n",
    "# send GET request and get trending venues\n",
    "results = requests.get(url).json()\n",
    "results"
   ]
  },
  {
   "cell_type": "markdown",
   "metadata": {
    "button": false,
    "new_sheet": false,
    "run_control": {
     "read_only": false
    }
   },
   "source": [
    "### Check if any venues are trending at this time"
   ]
  },
  {
   "cell_type": "code",
   "execution_count": 25,
   "metadata": {
    "button": false,
    "jupyter": {
     "outputs_hidden": true
    },
    "new_sheet": false,
    "run_control": {
     "read_only": false
    }
   },
   "outputs": [],
   "source": [
    "if len(results['response']['venues']) == 0:\n",
    "    trending_venues_df = 'No trending venues are available at the moment!'\n",
    "    \n",
    "else:\n",
    "    trending_venues = results['response']['venues']\n",
    "    trending_venues_df = json_normalize(trending_venues)\n",
    "\n",
    "    # filter columns\n",
    "    columns_filtered = ['name', 'categories'] + ['location.distance', 'location.city', 'location.postalCode', 'location.state', 'location.country', 'location.lat', 'location.lng']\n",
    "    trending_venues_df = trending_venues_df.loc[:, columns_filtered]\n",
    "\n",
    "    # filter the category for each row\n",
    "    trending_venues_df['categories'] = trending_venues_df.apply(get_category_type, axis=1)"
   ]
  },
  {
   "cell_type": "code",
   "execution_count": 26,
   "metadata": {
    "button": false,
    "jupyter": {
     "outputs_hidden": false
    },
    "new_sheet": false,
    "run_control": {
     "read_only": false
    }
   },
   "outputs": [
    {
     "data": {
      "text/plain": [
       "'No trending venues are available at the moment!'"
      ]
     },
     "execution_count": 26,
     "metadata": {},
     "output_type": "execute_result"
    }
   ],
   "source": [
    "# display trending venues\n",
    "trending_venues_df"
   ]
  },
  {
   "cell_type": "markdown",
   "metadata": {
    "button": false,
    "new_sheet": false,
    "run_control": {
     "read_only": false
    }
   },
   "source": [
    "### Visualize trending venues"
   ]
  },
  {
   "cell_type": "code",
   "execution_count": null,
   "metadata": {
    "button": false,
    "jupyter": {
     "outputs_hidden": false
    },
    "new_sheet": false,
    "run_control": {
     "read_only": false
    }
   },
   "outputs": [],
   "source": [
    "# display map\n",
    "venues_map"
   ]
  },
  {
   "cell_type": "markdown",
   "metadata": {
    "button": false,
    "new_sheet": false,
    "run_control": {
     "read_only": false
    }
   },
   "source": [
    "<a id=\"item6\"></a>"
   ]
  },
  {
   "cell_type": "markdown",
   "metadata": {
    "button": false,
    "new_sheet": false,
    "run_control": {
     "read_only": false
    }
   },
   "source": [
    "   "
   ]
  }
 ],
 "metadata": {
  "kernelspec": {
   "display_name": "Python 3.6",
   "language": "python",
   "name": "python3"
  },
  "language_info": {
   "codemirror_mode": {
    "name": "ipython",
    "version": 3
   },
   "file_extension": ".py",
   "mimetype": "text/x-python",
   "name": "python",
   "nbconvert_exporter": "python",
   "pygments_lexer": "ipython3",
   "version": "3.6.8"
  },
  "widgets": {
   "state": {},
   "version": "1.1.2"
  }
 },
 "nbformat": 4,
 "nbformat_minor": 4
}
